{
 "cells": [
  {
   "cell_type": "markdown",
   "metadata": {},
   "source": [
    "# Parameter Fitting for Mortals\n",
    "\n",
    "Parameters are constants used in models, such as kinetics contants for reactions.\n",
    "Although there is often knowledge of likely ranges of parameter values, the appropriate value is often unknown\n",
    "for a specific model.\n",
    "\n",
    "So, how do we proceed without knowing parameter values? The answer is that we estimate parameter values from\n",
    "observed data.\n",
    "Here is a simple example.\n",
    "Consider the irreversible reaction ``A + B`` $\\rightarrow$ ``C`` with mass action kinetics.\n",
    "That is, the kinetics expression is $kAB$.\n",
    "We do not know $k$.\n",
    "At first glance, it seems that we cannot go further.\n",
    "However, suppose that we have observed data for ``C``.\n",
    "So, we can *guess* an initial value of $k$, run a simulation, and compare\n",
    "the simulated ``C`` with the observed ``C``.\n",
    "We then repeatedly change $k$ in the direction so that we get a small difference\n",
    "between observed ``C`` and simulated ``C``.\n",
    "\n",
    "The following sections elaborate on this procedure using examples and providing code."
   ]
  },
  {
   "cell_type": "code",
   "execution_count": null,
   "metadata": {},
   "outputs": [],
   "source": [
    "# Imports \n",
    "import SBstoat"
   ]
  },
  {
   "cell_type": "markdown",
   "metadata": {},
   "source": [
    "## Fitting Basics"
   ]
  },
  {
   "cell_type": "markdown",
   "metadata": {},
   "source": [
    "Some key concepts are:\n",
    "- A **parameter** is a constant whose value is unknown.\n",
    "- **Observed data** are data that are used for fitting parameter values.\n",
    "- **Simulated data** are data produced by a simulation for an assignment of values to parameters.\n",
    "- **Residuals** are the difference between observed data and simulated data."
   ]
  },
  {
   "cell_type": "markdown",
   "metadata": {},
   "source": [
    "The basic algorithm for fitting is described below.\n",
    "Below, we outline the approach for a single parameter.\n",
    "\n",
    "1. Pick an initial value for $k$ and simulate the reaction.\n",
    "2. Calculate the **residuals**, the difference between simulated ``C`` and observed ``C``. Increase $k$.\n",
    "3. Obtain a new simulated ``C`` and calculate new residuals.\n",
    "4. If the new residuals are very small (e.g., very small variane), return $k$.\n",
    "5. If the new residuals are smaller than the last residuals (e.g., smaller variance), change $k$ in the same direction.\n",
    "6. If the new residuals are larger than the last residuals, change $k$ in the opposite direction (with a smaller amount of change).\n",
    "7. Go to Step 3."
   ]
  },
  {
   "cell_type": "markdown",
   "metadata": {},
   "source": [
    "## Fitting With SBstoat"
   ]
  },
  {
   "cell_type": "markdown",
   "metadata": {},
   "source": [
    "### Running Example"
   ]
  },
  {
   "cell_type": "markdown",
   "metadata": {},
   "source": [
    "### Doing the fit"
   ]
  },
  {
   "cell_type": "markdown",
   "metadata": {},
   "source": [
    "### Evaluating Quality of Fit"
   ]
  },
  {
   "cell_type": "markdown",
   "metadata": {},
   "source": [
    "## A More Realistic Example"
   ]
  },
  {
   "cell_type": "markdown",
   "metadata": {},
   "source": [
    "## Estimating Parameter Variances With Bootstrapping"
   ]
  },
  {
   "cell_type": "markdown",
   "metadata": {},
   "source": [
    "## Tips for Fitting"
   ]
  },
  {
   "cell_type": "markdown",
   "metadata": {},
   "source": [
    "There is considerable art in fitting. The quality of parameter fits\n",
    "can be improved by exploring the following:\n",
    "- **What you fit**. This means, which species concentrations you include in the residuals, what part of the time course\n",
    "you try to fit, and the ranges you choose for parameter values.\n",
    "- **How you fit**. There are several different algorithms for doing non-linear minimizations...\n",
    "- **How much compute**. Fitting is computationally intensive. More compute time is often needed for a better result. ``SBstoat`` helps\n",
    "in this regard by making use of multiple cores."
   ]
  }
 ],
 "metadata": {
  "kernelspec": {
   "display_name": "Python 3",
   "language": "python",
   "name": "python3"
  },
  "language_info": {
   "codemirror_mode": {
    "name": "ipython",
    "version": 3
   },
   "file_extension": ".py",
   "mimetype": "text/x-python",
   "name": "python",
   "nbconvert_exporter": "python",
   "pygments_lexer": "ipython3",
   "version": "3.6.9"
  }
 },
 "nbformat": 4,
 "nbformat_minor": 4
}
