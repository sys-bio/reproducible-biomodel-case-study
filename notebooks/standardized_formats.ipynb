{
 "cells": [
  {
   "cell_type": "markdown",
   "metadata": {},
   "source": [
    "# Chapter X: SBML, SED-ML, and the COMBINE archive: standard formats supported in Tellurium "
   ]
  },
  {
   "cell_type": "markdown",
   "metadata": {},
   "source": [
    "To facilitate design and comprehension of their models, modelers should use standard systems biology formats for model descriptions, such as the systems biology markup language (SBML) [add references] and CellML [add references]. Antimony is a modular, text-based language that can describe a model in simple statements and export models to SBML [add references]. BioPAX is a modeling language that represents biological pathways and can export them to SBML or CellML [add references]. BioNetGen [add references]and PySB [add references]enable rule-based models and can also export them to SBML. SBtab [add references] and ObjTables [add references] provide a set of standardized syntax rules and conventions for table-based data formats, to help modelers structure experimental measurements and enable automated data integration and model building.\n",
    "\n",
    "Use the systems biology ontology (SBO) [add references] to precisely record and categorize the semantics of model components, including assumptions, the types of rate laws, and the roles of species in reactions and rate laws. The structures of small molecules can be described using the International Union of Pure and Applied Chemistry (IUPAC) International Chemical Identifiers (InChI) [add references]. BpForms and BcForms can precisely describe the structures of and modifications to bio-polymers and complexes [add references].\n",
    "\n",
    "\n",
    "Follow the minimal information required in the annotation of biochemical models (MIRIAM) standard to ensure that all model components are explained [add references]. Use the systems biology graphical notation (SBGN) [add references] to visualize the model to help independent groups understand its components and interactions.\n"
   ]
  },
  {
   "cell_type": "markdown",
   "metadata": {},
   "source": [
    "## Import and export capabilities with Tellurium\n",
    "<br>\n",
    "Models can be imported from the BioModels Database, given the appropriate BioModel ID. However, due to a firewall on nanoHUB, we are unable to perform this import. Instead, upload BIOMD0000000090.xml to your Tellurium tool on nanoHUB.\n",
    "\n",
    "This is a model of respiratory oscillations in Saccharomyces cerevisae by <a href=\"https://www.ebi.ac.uk/biomodels/BIOMD0000000090\">Jana Wolf et al. (2001):</a> </div>\n",
    "<br>\n",
    "\n",
    "<div align='center'><img src=\"https://raw.githubusercontent.com/vporubsky/tellurium-libroadrunner-tutorial/master/wolf_publication.PNG\" width=\"65%\" style=\"padding: 20px\"></div>\n",
    "<br>\n",
    "<div align='center'><img src=\"https://raw.githubusercontent.com/vporubsky/tellurium-libroadrunner-tutorial/master/wolf_network.PNG\" width=\"65%\" style=\"padding: 20px\"></div>"
   ]
  },
  {
   "cell_type": "markdown",
   "metadata": {},
   "source": [
    "# Importing SBML directly from the BioModels Database for simulation\n",
    "\n",
    "*** currently does not work -- check updates to Tellurium***"
   ]
  },
  {
   "cell_type": "code",
   "execution_count": 10,
   "metadata": {},
   "outputs": [
    {
     "name": "stdout",
     "output_type": "stream",
     "text": [
      "Collecting tellurium\n",
      "  Using cached tellurium-2.2.0-py3-none-any.whl (118 kB)\n",
      "Requirement already satisfied, skipping upgrade: pytest in c:\\users\\vporu\\.julia\\conda\\3\\lib\\site-packages (from tellurium) (5.4.3)\n",
      "Requirement already satisfied, skipping upgrade: plotly>=2.0.12 in c:\\users\\vporu\\.julia\\conda\\3\\lib\\site-packages (from tellurium) (4.9.0)\n",
      "Requirement already satisfied, skipping upgrade: ipykernel>=4.6.1 in c:\\users\\vporu\\.julia\\conda\\3\\lib\\site-packages (from tellurium) (5.1.4)\n",
      "Requirement already satisfied, skipping upgrade: sbml2matlab>=0.9.1 in c:\\users\\vporu\\.julia\\conda\\3\\lib\\site-packages (from tellurium) (1.2.3)\n",
      "Requirement already satisfied, skipping upgrade: requests in c:\\users\\vporu\\.julia\\conda\\3\\lib\\site-packages (from tellurium) (2.23.0)\n",
      "Requirement already satisfied, skipping upgrade: phrasedml>=1.0.9 in c:\\users\\vporu\\.julia\\conda\\3\\lib\\site-packages (from tellurium) (1.0.10)\n",
      "Requirement already satisfied, skipping upgrade: antimony>=2.12.0 in c:\\users\\vporu\\.julia\\conda\\3\\lib\\site-packages (from tellurium) (2.12.0)\n",
      "Requirement already satisfied, skipping upgrade: rrplugins>=2.0.3 in c:\\users\\vporu\\.julia\\conda\\3\\lib\\site-packages (from tellurium) (2.0.3)\n",
      "Collecting python-libcombine>=0.2.2\n",
      "  Using cached python_libcombine-0.2.9-cp37-cp37m-win_amd64.whl (1.6 MB)\n",
      "Requirement already satisfied, skipping upgrade: jupyter-client>=5.1.0 in c:\\users\\vporu\\.julia\\conda\\3\\lib\\site-packages (from tellurium) (6.1.2)\n",
      "Requirement already satisfied, skipping upgrade: jinja2>=2.9.6 in c:\\users\\vporu\\.julia\\conda\\3\\lib\\site-packages (from tellurium) (2.11.1)\n",
      "Requirement already satisfied, skipping upgrade: pandas>=0.20.2 in c:\\users\\vporu\\.julia\\conda\\3\\lib\\site-packages (from tellurium) (1.0.5)\n",
      "Requirement already satisfied, skipping upgrade: numpy==1.19.3 in c:\\users\\vporu\\.julia\\conda\\3\\lib\\site-packages (from tellurium) (1.19.3)\n",
      "Requirement already satisfied, skipping upgrade: jupyter-core>=4.3.0 in c:\\users\\vporu\\.julia\\conda\\3\\lib\\site-packages (from tellurium) (4.6.3)\n",
      "Collecting python-libnuml>=1.0.0\n",
      "  Using cached python_libnuml-1.1.3-cp37-cp37m-win_amd64.whl (1.3 MB)\n",
      "Requirement already satisfied, skipping upgrade: ipython in c:\\users\\vporu\\.julia\\conda\\3\\lib\\site-packages (from tellurium) (7.13.0)\n",
      "Requirement already satisfied, skipping upgrade: matplotlib>=2.0.2 in c:\\users\\vporu\\.julia\\conda\\3\\lib\\site-packages (from tellurium) (3.3.0)\n",
      "Requirement already satisfied, skipping upgrade: libroadrunner>=2.0.3 in c:\\users\\vporu\\.julia\\conda\\3\\lib\\site-packages (from tellurium) (2.0.3)\n",
      "Requirement already satisfied, skipping upgrade: scipy>=1.5.1 in c:\\users\\vporu\\.julia\\conda\\3\\lib\\site-packages (from tellurium) (1.5.2)\n",
      "Requirement already satisfied, skipping upgrade: python-libsedml>=2.0.12 in c:\\users\\vporu\\.julia\\conda\\3\\lib\\site-packages (from tellurium) (2.0.12)\n",
      "Requirement already satisfied, skipping upgrade: appdirs>=1.4.3 in c:\\users\\vporu\\.julia\\conda\\3\\lib\\site-packages (from tellurium) (1.4.4)\n",
      "Requirement already satisfied, skipping upgrade: python-libsbml>=5.18.0 in c:\\users\\vporu\\.julia\\conda\\3\\lib\\site-packages (from tellurium) (5.19.0)\n",
      "Requirement already satisfied, skipping upgrade: packaging in c:\\users\\vporu\\.julia\\conda\\3\\lib\\site-packages (from pytest->tellurium) (20.4)\n",
      "Requirement already satisfied, skipping upgrade: more-itertools>=4.0.0 in c:\\users\\vporu\\.julia\\conda\\3\\lib\\site-packages (from pytest->tellurium) (8.4.0)\n",
      "Requirement already satisfied, skipping upgrade: attrs>=17.4.0 in c:\\users\\vporu\\.julia\\conda\\3\\lib\\site-packages (from pytest->tellurium) (19.3.0)\n",
      "Requirement already satisfied, skipping upgrade: wcwidth in c:\\users\\vporu\\.julia\\conda\\3\\lib\\site-packages (from pytest->tellurium) (0.1.9)\n",
      "Requirement already satisfied, skipping upgrade: importlib-metadata>=0.12; python_version < \"3.8\" in c:\\users\\vporu\\.julia\\conda\\3\\lib\\site-packages (from pytest->tellurium) (1.5.0)\n",
      "Requirement already satisfied, skipping upgrade: pluggy<1.0,>=0.12 in c:\\users\\vporu\\.julia\\conda\\3\\lib\\site-packages (from pytest->tellurium) (0.13.1)\n",
      "Requirement already satisfied, skipping upgrade: atomicwrites>=1.0; sys_platform == \"win32\" in c:\\users\\vporu\\.julia\\conda\\3\\lib\\site-packages (from pytest->tellurium) (1.4.0)\n",
      "Requirement already satisfied, skipping upgrade: py>=1.5.0 in c:\\users\\vporu\\.julia\\conda\\3\\lib\\site-packages (from pytest->tellurium) (1.9.0)\n",
      "Requirement already satisfied, skipping upgrade: colorama; sys_platform == \"win32\" in c:\\users\\vporu\\.julia\\conda\\3\\lib\\site-packages (from pytest->tellurium) (0.4.3)\n",
      "Requirement already satisfied, skipping upgrade: six in c:\\users\\vporu\\.julia\\conda\\3\\lib\\site-packages (from plotly>=2.0.12->tellurium) (1.14.0)\n",
      "Requirement already satisfied, skipping upgrade: retrying>=1.3.3 in c:\\users\\vporu\\.julia\\conda\\3\\lib\\site-packages (from plotly>=2.0.12->tellurium) (1.3.3)\n",
      "Requirement already satisfied, skipping upgrade: traitlets>=4.1.0 in c:\\users\\vporu\\.julia\\conda\\3\\lib\\site-packages (from ipykernel>=4.6.1->tellurium) (4.3.3)\n",
      "Requirement already satisfied, skipping upgrade: tornado>=4.2 in c:\\users\\vporu\\.julia\\conda\\3\\lib\\site-packages (from ipykernel>=4.6.1->tellurium) (6.0.4)\n",
      "Requirement already satisfied, skipping upgrade: chardet<4,>=3.0.2 in c:\\users\\vporu\\.julia\\conda\\3\\lib\\site-packages (from requests->tellurium) (3.0.4)\n",
      "Requirement already satisfied, skipping upgrade: urllib3!=1.25.0,!=1.25.1,<1.26,>=1.21.1 in c:\\users\\vporu\\.julia\\conda\\3\\lib\\site-packages (from requests->tellurium) (1.25.8)\n",
      "Requirement already satisfied, skipping upgrade: certifi>=2017.4.17 in c:\\users\\vporu\\.julia\\conda\\3\\lib\\site-packages (from requests->tellurium) (2020.4.5.1)\n",
      "Requirement already satisfied, skipping upgrade: idna<3,>=2.5 in c:\\users\\vporu\\.julia\\conda\\3\\lib\\site-packages (from requests->tellurium) (2.9)\n",
      "Requirement already satisfied, skipping upgrade: python-dateutil>=2.1 in c:\\users\\vporu\\.julia\\conda\\3\\lib\\site-packages (from jupyter-client>=5.1.0->tellurium) (2.8.1)\n",
      "Requirement already satisfied, skipping upgrade: pyzmq>=13 in c:\\users\\vporu\\.julia\\conda\\3\\lib\\site-packages (from jupyter-client>=5.1.0->tellurium) (18.1.1)\n",
      "Requirement already satisfied, skipping upgrade: MarkupSafe>=0.23 in c:\\users\\vporu\\.julia\\conda\\3\\lib\\site-packages (from jinja2>=2.9.6->tellurium) (1.1.1)\n",
      "Requirement already satisfied, skipping upgrade: pytz>=2017.2 in c:\\users\\vporu\\.julia\\conda\\3\\lib\\site-packages (from pandas>=0.20.2->tellurium) (2020.1)\n",
      "Requirement already satisfied, skipping upgrade: pywin32>=1.0; sys_platform == \"win32\" in c:\\users\\vporu\\.julia\\conda\\3\\lib\\site-packages (from jupyter-core>=4.3.0->tellurium) (227)\n",
      "Requirement already satisfied, skipping upgrade: setuptools>=18.5 in c:\\users\\vporu\\.julia\\conda\\3\\lib\\site-packages (from ipython->tellurium) (46.1.3.post20200330)\n",
      "Requirement already satisfied, skipping upgrade: jedi>=0.10 in c:\\users\\vporu\\.julia\\conda\\3\\lib\\site-packages (from ipython->tellurium) (0.16.0)\n",
      "Requirement already satisfied, skipping upgrade: prompt-toolkit!=3.0.0,!=3.0.1,<3.1.0,>=2.0.0 in c:\\users\\vporu\\.julia\\conda\\3\\lib\\site-packages (from ipython->tellurium) (3.0.4)\n",
      "Requirement already satisfied, skipping upgrade: pygments in c:\\users\\vporu\\.julia\\conda\\3\\lib\\site-packages (from ipython->tellurium) (2.6.1)\n",
      "Requirement already satisfied, skipping upgrade: backcall in c:\\users\\vporu\\.julia\\conda\\3\\lib\\site-packages (from ipython->tellurium) (0.1.0)\n",
      "Requirement already satisfied, skipping upgrade: decorator in c:\\users\\vporu\\.julia\\conda\\3\\lib\\site-packages (from ipython->tellurium) (4.4.2)\n",
      "Requirement already satisfied, skipping upgrade: pickleshare in c:\\users\\vporu\\.julia\\conda\\3\\lib\\site-packages (from ipython->tellurium) (0.7.5)\n",
      "Requirement already satisfied, skipping upgrade: kiwisolver>=1.0.1 in c:\\users\\vporu\\.julia\\conda\\3\\lib\\site-packages (from matplotlib>=2.0.2->tellurium) (1.2.0)\n",
      "Requirement already satisfied, skipping upgrade: cycler>=0.10 in c:\\users\\vporu\\.julia\\conda\\3\\lib\\site-packages (from matplotlib>=2.0.2->tellurium) (0.10.0)\n",
      "Requirement already satisfied, skipping upgrade: pillow>=6.2.0 in c:\\users\\vporu\\.julia\\conda\\3\\lib\\site-packages (from matplotlib>=2.0.2->tellurium) (7.2.0)\n",
      "Requirement already satisfied, skipping upgrade: pyparsing!=2.0.4,!=2.1.2,!=2.1.6,>=2.0.3 in c:\\users\\vporu\\.julia\\conda\\3\\lib\\site-packages (from matplotlib>=2.0.2->tellurium) (2.4.7)\n",
      "Requirement already satisfied, skipping upgrade: zipp>=0.5 in c:\\users\\vporu\\.julia\\conda\\3\\lib\\site-packages (from importlib-metadata>=0.12; python_version < \"3.8\"->pytest->tellurium) (2.2.0)\n",
      "Requirement already satisfied, skipping upgrade: ipython-genutils in c:\\users\\vporu\\.julia\\conda\\3\\lib\\site-packages (from traitlets>=4.1.0->ipykernel>=4.6.1->tellurium) (0.2.0)\n",
      "Requirement already satisfied, skipping upgrade: parso>=0.5.2 in c:\\users\\vporu\\.julia\\conda\\3\\lib\\site-packages (from jedi>=0.10->ipython->tellurium) (0.6.2)\n",
      "Installing collected packages: python-libcombine, python-libnuml, tellurium\n",
      "  Attempting uninstall: tellurium\n",
      "    Found existing installation: tellurium 2.1.6\n",
      "    Uninstalling tellurium-2.1.6:\n",
      "      Successfully uninstalled tellurium-2.1.6\n",
      "Successfully installed python-libcombine-0.2.9 python-libnuml-1.1.3 tellurium-2.2.0\n"
     ]
    },
    {
     "ename": "AttributeError",
     "evalue": "module 'tesbml' has no attribute 'getLibSBMLDottedVersion'",
     "output_type": "error",
     "traceback": [
      "\u001b[1;31m---------------------------------------------------------------------------\u001b[0m",
      "\u001b[1;31mAttributeError\u001b[0m                            Traceback (most recent call last)",
      "\u001b[1;32m<ipython-input-10-2e38533ddcee>\u001b[0m in \u001b[0;36m<module>\u001b[1;34m\u001b[0m\n\u001b[0;32m      1\u001b[0m \u001b[0mget_ipython\u001b[0m\u001b[1;33m(\u001b[0m\u001b[1;33m)\u001b[0m\u001b[1;33m.\u001b[0m\u001b[0msystem\u001b[0m\u001b[1;33m(\u001b[0m\u001b[1;34m'pip install --upgrade tellurium'\u001b[0m\u001b[1;33m)\u001b[0m\u001b[1;33m\u001b[0m\u001b[1;33m\u001b[0m\u001b[0m\n\u001b[0;32m      2\u001b[0m \u001b[1;32mimport\u001b[0m \u001b[0mtellurium\u001b[0m \u001b[1;32mas\u001b[0m \u001b[0mte\u001b[0m\u001b[1;33m\u001b[0m\u001b[1;33m\u001b[0m\u001b[0m\n\u001b[1;32m----> 3\u001b[1;33m \u001b[0mte\u001b[0m\u001b[1;33m.\u001b[0m\u001b[0mgetVersionInfo\u001b[0m\u001b[1;33m(\u001b[0m\u001b[1;33m)\u001b[0m\u001b[1;33m\u001b[0m\u001b[1;33m\u001b[0m\u001b[0m\n\u001b[0m",
      "\u001b[1;32m~\\.julia\\conda\\3\\lib\\site-packages\\tellurium\\tellurium.py\u001b[0m in \u001b[0;36mgetVersionInfo\u001b[1;34m()\u001b[0m\n\u001b[0;32m    213\u001b[0m         \u001b[1;33m(\u001b[0m\u001b[1;34m'rrplugins'\u001b[0m\u001b[1;33m,\u001b[0m \u001b[0mrrplugins\u001b[0m\u001b[1;33m.\u001b[0m\u001b[0m__version__\u001b[0m\u001b[1;33m)\u001b[0m\u001b[1;33m,\u001b[0m\u001b[1;33m\u001b[0m\u001b[1;33m\u001b[0m\u001b[0m\n\u001b[0;32m    214\u001b[0m         \u001b[1;33m(\u001b[0m\u001b[1;34m'antimony'\u001b[0m\u001b[1;33m,\u001b[0m \u001b[0mantimony\u001b[0m\u001b[1;33m.\u001b[0m\u001b[0m__version__\u001b[0m\u001b[1;33m)\u001b[0m\u001b[1;33m,\u001b[0m\u001b[1;33m\u001b[0m\u001b[1;33m\u001b[0m\u001b[0m\n\u001b[1;32m--> 215\u001b[1;33m     ]\n\u001b[0m\u001b[0;32m    216\u001b[0m     \u001b[1;32mif\u001b[0m \u001b[0mlibsbml\u001b[0m\u001b[1;33m:\u001b[0m\u001b[1;33m\u001b[0m\u001b[1;33m\u001b[0m\u001b[0m\n\u001b[0;32m    217\u001b[0m         \u001b[0mversions\u001b[0m\u001b[1;33m.\u001b[0m\u001b[0mappend\u001b[0m\u001b[1;33m(\u001b[0m\u001b[1;33m(\u001b[0m\u001b[1;34m'libsbml'\u001b[0m\u001b[1;33m,\u001b[0m \u001b[0mlibsbml\u001b[0m\u001b[1;33m.\u001b[0m\u001b[0mgetLibSBMLDottedVersion\u001b[0m\u001b[1;33m(\u001b[0m\u001b[1;33m)\u001b[0m\u001b[1;33m)\u001b[0m\u001b[1;33m)\u001b[0m\u001b[1;33m\u001b[0m\u001b[1;33m\u001b[0m\u001b[0m\n",
      "\u001b[1;31mAttributeError\u001b[0m: module 'tesbml' has no attribute 'getLibSBMLDottedVersion'"
     ]
    }
   ],
   "source": [
    "!pip install --upgrade tellurium\n",
    "import tellurium as te\n",
    "te.getVersionInfo()"
   ]
  },
  {
   "cell_type": "code",
   "execution_count": 11,
   "metadata": {},
   "outputs": [
    {
     "ename": "RuntimeError",
     "evalue": "?read@SBMLReader@rr@@SA?AV?$basic_string@DU?$char_traits@D@std@@V?$allocator@D@2@@std@@AEBV34@@Z, could not open http://www.ebi.ac.uk/biomodels-main/download?mid=BIOMD0000000090 as a file or uri",
     "output_type": "error",
     "traceback": [
      "\u001b[1;31m---------------------------------------------------------------------------\u001b[0m",
      "\u001b[1;31mRuntimeError\u001b[0m                              Traceback (most recent call last)",
      "\u001b[1;32m<ipython-input-11-b0ec972ec5b4>\u001b[0m in \u001b[0;36m<module>\u001b[1;34m\u001b[0m\n\u001b[0;32m      1\u001b[0m \u001b[1;31m#%% You can load an SBML model directly from the BioModels Database, given the BioModel ID\u001b[0m\u001b[1;33m\u001b[0m\u001b[1;33m\u001b[0m\u001b[1;33m\u001b[0m\u001b[0m\n\u001b[0;32m      2\u001b[0m \u001b[1;32mimport\u001b[0m \u001b[0mtellurium\u001b[0m \u001b[1;32mas\u001b[0m \u001b[0mte\u001b[0m\u001b[1;33m\u001b[0m\u001b[1;33m\u001b[0m\u001b[0m\n\u001b[1;32m----> 3\u001b[1;33m \u001b[0mwolf\u001b[0m \u001b[1;33m=\u001b[0m \u001b[0mte\u001b[0m\u001b[1;33m.\u001b[0m\u001b[0mloadSBMLModel\u001b[0m\u001b[1;33m(\u001b[0m\u001b[1;34m\"http://www.ebi.ac.uk/biomodels-main/download?mid=BIOMD0000000090\"\u001b[0m\u001b[1;33m)\u001b[0m\u001b[1;33m\u001b[0m\u001b[1;33m\u001b[0m\u001b[0m\n\u001b[0m\u001b[0;32m      4\u001b[0m \u001b[0mwolf\u001b[0m\u001b[1;33m.\u001b[0m\u001b[0msimulate\u001b[0m\u001b[1;33m(\u001b[0m\u001b[1;36m0\u001b[0m\u001b[1;33m,\u001b[0m \u001b[1;36m100\u001b[0m\u001b[1;33m,\u001b[0m \u001b[1;36m1000\u001b[0m\u001b[1;33m,\u001b[0m \u001b[1;33m[\u001b[0m\u001b[1;34m'time'\u001b[0m\u001b[1;33m,\u001b[0m \u001b[1;34m'oxy'\u001b[0m\u001b[1;33m]\u001b[0m\u001b[1;33m)\u001b[0m \u001b[1;31m# note that specific species can be selected for recording concentrations over the timecourse\u001b[0m\u001b[1;33m\u001b[0m\u001b[1;33m\u001b[0m\u001b[0m\n\u001b[0;32m      5\u001b[0m \u001b[0mwolf\u001b[0m\u001b[1;33m.\u001b[0m\u001b[0mplot\u001b[0m\u001b[1;33m(\u001b[0m\u001b[0mfigsize\u001b[0m \u001b[1;33m=\u001b[0m \u001b[1;33m(\u001b[0m\u001b[1;36m10\u001b[0m\u001b[1;33m,\u001b[0m \u001b[1;36m6\u001b[0m\u001b[1;33m)\u001b[0m\u001b[1;33m,\u001b[0m \u001b[0mxtitle\u001b[0m \u001b[1;33m=\u001b[0m \u001b[1;34m'Time'\u001b[0m\u001b[1;33m,\u001b[0m \u001b[0mytitle\u001b[0m \u001b[1;33m=\u001b[0m \u001b[1;34m'Concentration'\u001b[0m\u001b[1;33m)\u001b[0m\u001b[1;33m\u001b[0m\u001b[1;33m\u001b[0m\u001b[0m\n",
      "\u001b[1;32m~\\.julia\\conda\\3\\lib\\site-packages\\tellurium\\tellurium.py\u001b[0m in \u001b[0;36mloadSBMLModel\u001b[1;34m(sbml)\u001b[0m\n\u001b[0;32m    556\u001b[0m     \u001b[1;33m:\u001b[0m\u001b[0mtype\u001b[0m \u001b[0msbml\u001b[0m\u001b[1;33m:\u001b[0m \u001b[0mstr\u001b[0m \u001b[1;33m|\u001b[0m \u001b[0mfile\u001b[0m\u001b[1;33m\u001b[0m\u001b[1;33m\u001b[0m\u001b[0m\n\u001b[0;32m    557\u001b[0m     \u001b[1;33m:\u001b[0m\u001b[0mreturns\u001b[0m\u001b[1;33m:\u001b[0m \u001b[0mRoadRunner\u001b[0m \u001b[0minstance\u001b[0m \u001b[1;32mwith\u001b[0m \u001b[0mmodel\u001b[0m \u001b[0mloaded\u001b[0m\u001b[1;33m\u001b[0m\u001b[1;33m\u001b[0m\u001b[0m\n\u001b[1;32m--> 558\u001b[1;33m     \u001b[1;33m:\u001b[0m\u001b[0mrtype\u001b[0m\u001b[1;33m:\u001b[0m \u001b[0mroadrunner\u001b[0m\u001b[1;33m.\u001b[0m\u001b[0mExtendedRoadRunner\u001b[0m\u001b[1;33m\u001b[0m\u001b[1;33m\u001b[0m\u001b[0m\n\u001b[0m\u001b[0;32m    559\u001b[0m     \"\"\"\n\u001b[0;32m    560\u001b[0m     \u001b[1;32mreturn\u001b[0m \u001b[0mroadrunner\u001b[0m\u001b[1;33m.\u001b[0m\u001b[0mRoadRunner\u001b[0m\u001b[1;33m(\u001b[0m\u001b[0msbml\u001b[0m\u001b[1;33m)\u001b[0m\u001b[1;33m\u001b[0m\u001b[1;33m\u001b[0m\u001b[0m\n",
      "\u001b[1;32m~\\.julia\\conda\\3\\lib\\site-packages\\tellurium\\roadrunner\\extended_roadrunner.py\u001b[0m in \u001b[0;36m__init__\u001b[1;34m(self, *args, **kwargs)\u001b[0m\n\u001b[0;32m     14\u001b[0m \u001b[1;33m\u001b[0m\u001b[0m\n\u001b[0;32m     15\u001b[0m     \u001b[1;32mdef\u001b[0m \u001b[0m__init__\u001b[0m\u001b[1;33m(\u001b[0m\u001b[0mself\u001b[0m\u001b[1;33m,\u001b[0m \u001b[1;33m*\u001b[0m\u001b[0margs\u001b[0m\u001b[1;33m,\u001b[0m \u001b[1;33m**\u001b[0m\u001b[0mkwargs\u001b[0m\u001b[1;33m)\u001b[0m\u001b[1;33m:\u001b[0m\u001b[1;33m\u001b[0m\u001b[1;33m\u001b[0m\u001b[0m\n\u001b[1;32m---> 16\u001b[1;33m         \u001b[0msuper\u001b[0m\u001b[1;33m(\u001b[0m\u001b[0mExtendedRoadRunner\u001b[0m\u001b[1;33m,\u001b[0m \u001b[0mself\u001b[0m\u001b[1;33m)\u001b[0m\u001b[1;33m.\u001b[0m\u001b[0m__init__\u001b[0m\u001b[1;33m(\u001b[0m\u001b[1;33m*\u001b[0m\u001b[0margs\u001b[0m\u001b[1;33m,\u001b[0m \u001b[1;33m**\u001b[0m\u001b[0mkwargs\u001b[0m\u001b[1;33m)\u001b[0m\u001b[1;33m\u001b[0m\u001b[1;33m\u001b[0m\u001b[0m\n\u001b[0m\u001b[0;32m     17\u001b[0m \u001b[1;33m\u001b[0m\u001b[0m\n\u001b[0;32m     18\u001b[0m     \u001b[1;31m# ---------------------------------------------------------------------\u001b[0m\u001b[1;33m\u001b[0m\u001b[1;33m\u001b[0m\u001b[1;33m\u001b[0m\u001b[0m\n",
      "\u001b[1;32m~\\.julia\\conda\\3\\lib\\site-packages\\roadrunner\\roadrunner.py\u001b[0m in \u001b[0;36m_new_init\u001b[1;34m(self, *args)\u001b[0m\n\u001b[0;32m   3766\u001b[0m     \u001b[1;31m# Python2\u001b[0m\u001b[1;33m\u001b[0m\u001b[1;33m\u001b[0m\u001b[1;33m\u001b[0m\u001b[0m\n\u001b[0;32m   3767\u001b[0m                     \u001b[1;32mfrom\u001b[0m \u001b[0murllib2\u001b[0m \u001b[1;32mimport\u001b[0m \u001b[0murlopen\u001b[0m\u001b[1;33m\u001b[0m\u001b[1;33m\u001b[0m\u001b[0m\n\u001b[1;32m-> 3768\u001b[1;33m                 \u001b[0msbml\u001b[0m \u001b[1;33m=\u001b[0m \u001b[0murlopen\u001b[0m\u001b[1;33m(\u001b[0m\u001b[0mp\u001b[0m\u001b[1;33m)\u001b[0m\u001b[1;33m.\u001b[0m\u001b[0mread\u001b[0m\u001b[1;33m(\u001b[0m\u001b[1;33m)\u001b[0m\u001b[1;33m\u001b[0m\u001b[1;33m\u001b[0m\u001b[0m\n\u001b[0m\u001b[0;32m   3769\u001b[0m                 \u001b[1;32mtry\u001b[0m\u001b[1;33m:\u001b[0m\u001b[1;33m\u001b[0m\u001b[1;33m\u001b[0m\u001b[0m\n\u001b[0;32m   3770\u001b[0m                     \u001b[0msbml\u001b[0m \u001b[1;33m=\u001b[0m \u001b[0mstr\u001b[0m\u001b[1;33m(\u001b[0m\u001b[0msbml\u001b[0m\u001b[1;33m.\u001b[0m\u001b[0mdecode\u001b[0m\u001b[1;33m(\u001b[0m\u001b[1;33m)\u001b[0m\u001b[1;33m)\u001b[0m\u001b[1;33m\u001b[0m\u001b[1;33m\u001b[0m\u001b[0m\n",
      "\u001b[1;32m~\\.julia\\conda\\3\\lib\\site-packages\\roadrunner\\roadrunner.py\u001b[0m in \u001b[0;36m__init__\u001b[1;34m(self, *args)\u001b[0m\n\u001b[0;32m   2522\u001b[0m \u001b[1;33m\u001b[0m\u001b[0m\n\u001b[0;32m   2523\u001b[0m     \u001b[1;32mdef\u001b[0m \u001b[0m__init__\u001b[0m\u001b[1;33m(\u001b[0m\u001b[0mself\u001b[0m\u001b[1;33m,\u001b[0m \u001b[1;33m*\u001b[0m\u001b[0margs\u001b[0m\u001b[1;33m)\u001b[0m\u001b[1;33m:\u001b[0m\u001b[1;33m\u001b[0m\u001b[1;33m\u001b[0m\u001b[0m\n\u001b[1;32m-> 2524\u001b[1;33m         \u001b[0mthis\u001b[0m \u001b[1;33m=\u001b[0m \u001b[0m_roadrunner\u001b[0m\u001b[1;33m.\u001b[0m\u001b[0mnew_RoadRunner\u001b[0m\u001b[1;33m(\u001b[0m\u001b[1;33m*\u001b[0m\u001b[0margs\u001b[0m\u001b[1;33m)\u001b[0m\u001b[1;33m\u001b[0m\u001b[1;33m\u001b[0m\u001b[0m\n\u001b[0m\u001b[0;32m   2525\u001b[0m         \u001b[1;32mtry\u001b[0m\u001b[1;33m:\u001b[0m\u001b[1;33m\u001b[0m\u001b[1;33m\u001b[0m\u001b[0m\n\u001b[0;32m   2526\u001b[0m             \u001b[0mself\u001b[0m\u001b[1;33m.\u001b[0m\u001b[0mthis\u001b[0m\u001b[1;33m.\u001b[0m\u001b[0mappend\u001b[0m\u001b[1;33m(\u001b[0m\u001b[0mthis\u001b[0m\u001b[1;33m)\u001b[0m\u001b[1;33m\u001b[0m\u001b[1;33m\u001b[0m\u001b[0m\n",
      "\u001b[1;31mRuntimeError\u001b[0m: ?read@SBMLReader@rr@@SA?AV?$basic_string@DU?$char_traits@D@std@@V?$allocator@D@2@@std@@AEBV34@@Z, could not open http://www.ebi.ac.uk/biomodels-main/download?mid=BIOMD0000000090 as a file or uri"
     ]
    }
   ],
   "source": [
    "#%% You can load an SBML model directly from the BioModels Database, given the BioModel ID\n",
    "import tellurium as te\n",
    "wolf = te.loadSBMLModel(\"http://www.ebi.ac.uk/biomodels-main/download?mid=BIOMD0000000090\")\n",
    "wolf.simulate(0, 100, 1000, ['time', 'oxy']) # note that specific species can be selected for recording concentrations over the timecourse\n",
    "wolf.plot(figsize = (10, 6), xtitle = 'Time', ytitle = 'Concentration')\n",
    " "
   ]
  },
  {
   "cell_type": "code",
   "execution_count": 3,
   "metadata": {},
   "outputs": [
    {
     "ename": "NameError",
     "evalue": "name 'wolf' is not defined",
     "output_type": "error",
     "traceback": [
      "\u001b[1;31m---------------------------------------------------------------------------\u001b[0m",
      "\u001b[1;31mNameError\u001b[0m                                 Traceback (most recent call last)",
      "\u001b[1;32m<ipython-input-3-fbf56d2965e5>\u001b[0m in \u001b[0;36m<module>\u001b[1;34m\u001b[0m\n\u001b[0;32m      1\u001b[0m \u001b[1;31m# Export the model you just accessed from BioModels to the current directory as an Antimony string\u001b[0m\u001b[1;33m\u001b[0m\u001b[1;33m\u001b[0m\u001b[1;33m\u001b[0m\u001b[0m\n\u001b[1;32m----> 2\u001b[1;33m \u001b[0mwolf\u001b[0m\u001b[1;33m.\u001b[0m\u001b[0mreset\u001b[0m\u001b[1;33m(\u001b[0m\u001b[1;33m)\u001b[0m\u001b[1;33m\u001b[0m\u001b[1;33m\u001b[0m\u001b[0m\n\u001b[0m\u001b[0;32m      3\u001b[0m \u001b[0mprint\u001b[0m\u001b[1;33m(\u001b[0m\u001b[0mwolf\u001b[0m\u001b[1;33m.\u001b[0m\u001b[0mgetFloatingSpeciesConcentrationIds\u001b[0m\u001b[1;33m(\u001b[0m\u001b[1;33m)\u001b[0m\u001b[1;33m)\u001b[0m\u001b[1;33m\u001b[0m\u001b[1;33m\u001b[0m\u001b[0m\n\u001b[0;32m      4\u001b[0m \u001b[0mwolf\u001b[0m\u001b[1;33m.\u001b[0m\u001b[0mexportToAntimony\u001b[0m\u001b[1;33m(\u001b[0m\u001b[1;34m'wolf.txt'\u001b[0m\u001b[1;33m,\u001b[0m \u001b[0mcurrent\u001b[0m \u001b[1;33m=\u001b[0m \u001b[1;32mTrue\u001b[0m\u001b[1;33m)\u001b[0m\u001b[1;33m\u001b[0m\u001b[1;33m\u001b[0m\u001b[0m\n",
      "\u001b[1;31mNameError\u001b[0m: name 'wolf' is not defined"
     ]
    }
   ],
   "source": [
    "# Export the model you just accessed from BioModels to the current directory as an Antimony string\n",
    "wolf.reset()\n",
    "print(wolf.getFloatingSpeciesConcentrationIds())\n",
    "wolf.exportToAntimony('wolf.txt', current = True) "
   ]
  },
  {
   "cell_type": "markdown",
   "metadata": {},
   "source": [
    "<br>\n",
    "<html>\n",
    "   <head>\n",
    "      <title>Bibliography</title>\n",
    "   </head>\n",
    "   <body>\n",
    "      <h1>Bibliography</h1>\n",
    "      <ol>\n",
    "         <li>\n",
    "            <p>K. Choi et al., <cite>Tellurium: An extensible python-based modeling environment for systems and synthetic biology</cite>, Biosystems, vol. 171, pp. 74–79, Sep. 2018.</p>\n",
    "         </li>\n",
    "         <li>\n",
    "            <p>E. T. Somogyi et al., <cite>libRoadRunner: a high performance SBML simulation and analysis library.,</cite>, Bioinformatics, vol. 31, no. 20, pp. 3315–21, Oct. 2015.</p>         \n",
    "          <li>\n",
    "            <p>L. P. Smith, F. T. Bergmann, D. Chandran, and H. M. Sauro, <cite>Antimony: a modular model definition language</cite>, Bioinformatics, vol. 25, no. 18, pp. 2452–2454, Sep. 2009.</p>\n",
    "         </li>\n",
    "         <li>\n",
    "            <p>K. Choi, L. P. Smith, J. K. Medley, and H. M. Sauro, <cite>phraSED-ML: a paraphrased, human-readable adaptation of SED-ML</cite>, J. Bioinform. Comput. Biol., vol. 14, no. 06, Dec. 2016.</p>\n",
    "         </li>\n",
    "         <li>\n",
    "            <p>J. Wolf, H. Y. Sohn, R. Heinrich, and H. Kuriyama, <cite>Mathematical analysis of a mechanism for autonomous metabolic oscillations in continuous culture of Saccharomyces cerevisiae</cite>, FEBS Lett., vol. 499, no. 3, pp. 230–234, Jun. 2001.</p>\n",
    "         </li>\n",
    "      </ol>\n",
    "   </body>\n",
    "</html>"
   ]
  }
 ],
 "metadata": {
  "kernelspec": {
   "display_name": "Python 3",
   "language": "python",
   "name": "python3"
  },
  "language_info": {
   "codemirror_mode": {
    "name": "ipython",
    "version": 3
   },
   "file_extension": ".py",
   "mimetype": "text/x-python",
   "name": "python",
   "nbconvert_exporter": "python",
   "pygments_lexer": "ipython3",
   "version": "3.7.6"
  }
 },
 "nbformat": 4,
 "nbformat_minor": 4
}
