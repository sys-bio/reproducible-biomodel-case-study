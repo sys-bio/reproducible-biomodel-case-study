{
 "cells": [
  {
   "cell_type": "markdown",
   "metadata": {},
   "source": [
    "# Testing Kinetics Models\n",
    "\n",
    "This chapter discusses testing kinetics models. We begin with a motivating example, and then the next two sections provide details of verification testing.\n",
    "The final section applies these techniques to the running example of glycolytic oscillations."
   ]
  },
  {
   "cell_type": "code",
   "execution_count": 1,
   "metadata": {},
   "outputs": [
    {
     "ename": "ModuleNotFoundError",
     "evalue": "No module named 'SBMLLint'",
     "output_type": "error",
     "traceback": [
      "\u001b[0;31m---------------------------------------------------------------------------\u001b[0m",
      "\u001b[0;31mModuleNotFoundError\u001b[0m                       Traceback (most recent call last)",
      "\u001b[0;32m<ipython-input-1-2f674126a5ac>\u001b[0m in \u001b[0;36m<module>\u001b[0;34m\u001b[0m\n\u001b[1;32m      4\u001b[0m \u001b[0;32mimport\u001b[0m \u001b[0mnumpy\u001b[0m \u001b[0;32mas\u001b[0m \u001b[0mnp\u001b[0m\u001b[0;34m\u001b[0m\u001b[0;34m\u001b[0m\u001b[0m\n\u001b[1;32m      5\u001b[0m \u001b[0;32mfrom\u001b[0m \u001b[0mscipy\u001b[0m \u001b[0;32mimport\u001b[0m \u001b[0mfftpack\u001b[0m\u001b[0;34m\u001b[0m\u001b[0;34m\u001b[0m\u001b[0m\n\u001b[0;32m----> 6\u001b[0;31m \u001b[0;32mfrom\u001b[0m \u001b[0mSBMLLint\u001b[0m\u001b[0;34m.\u001b[0m\u001b[0mtools\u001b[0m\u001b[0;34m.\u001b[0m\u001b[0msbmllint\u001b[0m \u001b[0;32mimport\u001b[0m \u001b[0mlint\u001b[0m\u001b[0;34m\u001b[0m\u001b[0;34m\u001b[0m\u001b[0m\n\u001b[0m",
      "\u001b[0;31mModuleNotFoundError\u001b[0m: No module named 'SBMLLint'"
     ]
    }
   ],
   "source": [
    "# Python packages used in this section\n",
    "import tellurium as te\n",
    "import matplotlib.pyplot as plt\n",
    "import numpy as np\n",
    "from scipy import fftpack\n",
    "from SBMLLint.tools.sbmllint import lint"
   ]
  },
  {
   "cell_type": "markdown",
   "metadata": {},
   "source": [
    "## Motivation\n",
    "We begin with a motivating example.\n",
    "Consider a linear pathway consisting of three species ``S1``, ``S2``, and ``S3``. That is, ``S1`` $\\rightarrow$ ``S2`` $\\rightarrow$ ``S3``.\n",
    "\n",
    "We initialize ``S1`` to 10. We expect that the following outcomes (designated by **On**):\n",
    "\n",
    "- **O1**: ``S1`` decreases monotonically from 10 to 0.\n",
    "- **O2**: ``S2`` increases initially, peaks, and then declises to 0.\n",
    "- **O3**: ``S3`` increases monotonically to 10. \n",
    "\n",
    "Here is a first implementation of the model."
   ]
  },
  {
   "cell_type": "code",
   "execution_count": null,
   "metadata": {},
   "outputs": [],
   "source": [
    "FIRST_IMPLEMENTATION = '''\n",
    "R1: S1 -> S2; k1*S1  \n",
    "R2: S2 -> S3; k2*S1\n",
    "\n",
    "S1 = 10\n",
    "k1 = 1; k2 = 1\n",
    "'''\n",
    "rr = te.loada(FIRST_IMPLEMENTATION)\n",
    "data = rr.simulate(1, 10)\n",
    "rr.plot(data, title=\"First model of a linear pathway\")"
   ]
  },
  {
   "cell_type": "markdown",
   "metadata": {},
   "source": [
    "We see that O1 and O3 are satisfied. However, O2 is not. Why?\n",
    "\n",
    "Looking carefully at the Antimony model, we see there is an error in the specification of the kinetics law for reaction ``R2``. The kinetics law incorrectly references ``S1`` instead of ``S2``. Below is the corrected model."
   ]
  },
  {
   "cell_type": "code",
   "execution_count": null,
   "metadata": {},
   "outputs": [],
   "source": [
    "CORRECT_MODEL = '''\n",
    "R1:  S1 -> S2; k1*S1  \n",
    "R2a: S2 -> S3; k2*S2\n",
    "\n",
    "S1 = 10\n",
    "k1 = 1; k2 = 1;\n",
    "'''\n",
    "rr = te.loada(CORRECT_MODEL)\n",
    "data = rr.simulate(1, 10)\n",
    "rr.plot(data, title=\"Correct model of a linear pathway\")"
   ]
  },
  {
   "cell_type": "markdown",
   "metadata": {},
   "source": [
    "In this model, all three outcomes are satisfied."
   ]
  },
  {
   "cell_type": "markdown",
   "metadata": {},
   "source": [
    "Although the example is simple, it demonstrates how easy it is to make mistakes in the construction of models, especially complex models. A few mistakes can be detected by tellurium, such as misspelling the name of a floating species. However, the mistake made in the first model, substituting ``S1`` for ``S2``, is not detected by Tellurium."
   ]
  },
  {
   "cell_type": "markdown",
   "metadata": {},
   "source": [
    "How do we detect errors in the implementation of models (a processing often referred to as *verification*)? By implementation of the model, we mean that there is a clear understanding of the expected behavior of the model. Verification is about providing ways to detect if the implemention provides the expected behavior.\n",
    "\n",
    "Although our focus here is on verification, making sure that the intended model is what was built, there is another challenge in modeling. That is, choosing the corrrect model to implement.\n",
    "Modellers address this by checking for correspondence between simulation data and laboratory measurements.\n",
    "This process is called **validation**.\n",
    "Both verification and validation are essential to producing useful models.\n",
    "However, it makes no sense to validate a model that is implemented incorrectly.\n",
    "Further, while there is considerable focus in the literature on model validation, there is almost no discussion of verification.\n",
    "\n",
    "This chaper is about verifying simulation models, or verification testing.\n",
    "Such testing is done by examining models and their outputs.\n",
    "There are two kinds of verification tests.\n",
    "\n",
    "The first kind of verification tests only examines the model itself; the model is not executed.\n",
    "We refer to these as **static tests**.\n",
    "For example, one static test is to look for suspicious kinetics laws, such as the kinetics law for ``R2``\n",
    "that references a floating species that is neither a reactant nor a product (which would be incorrect\n",
    "if the intended kinetics are mass action).\n",
    "In the above example, \n",
    "Drawing on the experience of the software industry over the last 50 years,\n",
    "we identify two kinds of validation.\n",
    "\n",
    "The second kind of verification tests runs simulations and compares the results with what the model developer\n",
    "expected.\n",
    "This is illustrated by outcomes O1-O3 and our analysis of the above two simulation models.\n",
    "\n",
    "The remainder of this chaper discusses static tests, dynamic tests, and provides a detailed example from BioModels."
   ]
  },
  {
   "cell_type": "markdown",
   "metadata": {},
   "source": [
    "## Static Testing\n",
    "\n",
    "Static testing is done by analyzing the model without running any simulation.\n",
    "Several kinds of errors can be discovered by a static analysis."
   ]
  },
  {
   "cell_type": "markdown",
   "metadata": {},
   "source": [
    "### Mass Balance Errors\n",
    "\n",
    "A first error is the presence of reactions that do not preserve mass balance. Consider the following simulation of ``ATP`` hydrolysis and ``ADP`` phosphorylation. in which the equilibrium constant (``Keq``) is 1. We not that this is not a physiological value for ``Keq``, but useful for our example."
   ]
  },
  {
   "cell_type": "code",
   "execution_count": null,
   "metadata": {},
   "outputs": [],
   "source": [
    "ATP1_MODEL = \"\"\"\n",
    "J0: ATP -> ADP + P; k_f*ATP  \n",
    "J1: ADP -> ATP; k_r*ADP\n",
    "\n",
    "Keq = 1\n",
    "k_f = 0.4\n",
    "k_r = k_f/Keq\n",
    "ATP = 1\n",
    "ADP = 10e-5\n",
    "\"\"\"\n",
    "\n",
    "rr = te.loada(ATP1_MODEL)\n",
    "rr.plot(rr.simulate(0, 50, 100))"
   ]
  },
  {
   "cell_type": "markdown",
   "metadata": {},
   "source": [
    "Our expectation is that at equilibrium, ``ATP = ADP`` by definition of the equilibrium constant. However, instead ``Pi_`` increases without bound,\n",
    "and ``ATP = 0 = ADP``.\n",
    "\n",
    "Clearly, we have an error in the model. What is it?"
   ]
  },
  {
   "cell_type": "markdown",
   "metadata": {},
   "source": [
    "The issue here is that there is mass balance error in the model.\n",
    "That is, non-boundary reactions (reactions with non-null reactants and non-null products) should neither creater nor destroy mass.\n",
    "This is the case for ``J0`` in that the third inorganic phosphate in ``ATP`` is one of the products.\n",
    "However, there is no inorganic phosphate in the reactants of ``J1``. So, we are creating ``P`` in this network.\n",
    "\n",
    "Below, we revise the model to include ``P`` in the reactants of ``J1a``."
   ]
  },
  {
   "cell_type": "code",
   "execution_count": null,
   "metadata": {},
   "outputs": [],
   "source": [
    "ATP2_MODEL = \"\"\"\n",
    "J0: ATP -> ADP + Pi_; k_f*ATP  \n",
    "J1a: ADP + P -> ATP; k_r*ADP*P\n",
    "\n",
    "Keq = 1\n",
    "k_f = 0.4\n",
    "k_r = k_f/Keq\n",
    "ATP = 1\n",
    "ADP = 10e-5\n",
    "\"\"\"\n",
    "\n",
    "rr = te.loada(ATP2_MODEL)\n",
    "rr.plot(rr.simulate(0, 50, 100))"
   ]
  },
  {
   "cell_type": "markdown",
   "metadata": {},
   "source": [
    "Now, we get a more reasonable result. (Note that the line for ``ADP`` and ``Pi`` are coincident.) The concentrations of ``ATP`` and ``ADP`` differ because $K_{eq} = \\frac{[ATP]}{[ADP] [Pi]} = \\frac{0.64}{(0.4)(0.4)}$.\n",
    "\n",
    "There is another way of fixing the mass balance error that reqults in ``ATP = ADP``. This solution assumes that there is a\n",
    "large concentration of ``Pi`` that is relatively unchanged as a result of the hydolysis and phosphorylation reactions.\n",
    "So, ``Pi`` does not appear in the model."
   ]
  },
  {
   "cell_type": "code",
   "execution_count": null,
   "metadata": {},
   "outputs": [],
   "source": [
    "ATP3_MODEL = \"\"\"\n",
    "J0a: ATP -> ADP; k_f*ATP \n",
    "J1: ADP -> ATP; k_r*ADP\n",
    "\n",
    "Keq = 1\n",
    "k_f = 0.4\n",
    "k_r = k_f/Keq\n",
    "ATP = 1\n",
    "ADP = 10e-5\n",
    "\"\"\"\n",
    "\n",
    "rr = te.loada(ATP3_MODEL)\n",
    "rr.plot(rr.simulate(0, 50, 100))"
   ]
  },
  {
   "cell_type": "markdown",
   "metadata": {},
   "source": [
    "### Detecting Mass Balance Errors"
   ]
  },
  {
   "cell_type": "markdown",
   "metadata": {},
   "source": [
    "Having seen the dramatic impact of undetected mass balance errors, it is natural to ask how they can be detected. There are two general approaches.\n",
    "The first requires knowing the chemical composition of each chemical species.\n",
    "For example, atomic mass analysis ??ref-MEMOTE counts the atoms of each type in the reactants and compares each count with the corresponding counts of atoms in the products.\n",
    "This approach has two challenges.\n",
    "First, the modeler must use annotations or other means to expose the chemical structure of species; this is not always available (especially\n",
    "for larger molecules that can be in many different chemical states of phosphorylation, methylation, etc.).\n",
    "A second problem is that it forces the modeler to write unnecessarly detailed reactions.\n",
    "For example, ``ATP2_MODEL`` fails this kind of mass balance checking because there is no accounting for the $\\gamma$ phosphate of ``ATP``.\n",
    "\n",
    "An alternative approach is to check for a condition that is a bit weaker than mass balance.\n",
    "Referred to as **stoichiometric inconsistency**, such inconsistencies are detected if there is no assignment of masses to\n",
    "the chemical species such that the reaction network (without boundary reactions) neither creates nor destroys chemical species.\n",
    "\n",
    "The technical details of this latter approach are described in ??ref-Shin for details.\n",
    "The paper introduces the GAMES algorithm that uses graphical techniques to analyze mass equivalences implied by the reaction network.\n",
    "For example, reaction ``J0`` implies that the mass of ``ATP`` is equal to the sum of the masses of ``ADP`` and ``P``.\n",
    "\n",
    "GAMES is in the SBMLLint ``pip`` installable package. It can be run at the command line\n",
    "via ``games <SBML file>``. It can also be run programmatically, such as within a Jupyter notebook.\n",
    "Below, we show how to apply the GAMES to the above examples.\n"
   ]
  },
  {
   "cell_type": "code",
   "execution_count": null,
   "metadata": {},
   "outputs": [],
   "source": [
    "_ = lint(ATP1_MODEL, mass_balance_check=\"games\")"
   ]
  },
  {
   "cell_type": "markdown",
   "metadata": {},
   "source": [
    "GAMES detected that the first model is stoichiometric inconsisent. Further, GAMES provides a simple argument for how this detection is made.\n",
    "Statement (1) explains that GAMES inferred that the mass of ``ADP`` is equal to the mass of ``ATP``.\n",
    "However, this is contradicted by a second finding that the mass of ``ADP`` is less than the mass of ``ATP``."
   ]
  },
  {
   "cell_type": "code",
   "execution_count": null,
   "metadata": {},
   "outputs": [],
   "source": [
    "_ = lint(ATP2_MODEL, mass_balance_check=\"games\")"
   ]
  },
  {
   "cell_type": "code",
   "execution_count": null,
   "metadata": {},
   "outputs": [],
   "source": [
    "_ = lint(ATP3_MODEL, mass_balance_check=\"games\")"
   ]
  },
  {
   "cell_type": "markdown",
   "metadata": {},
   "source": [
    "### Other Errors Detectable By Static Analysis"
   ]
  },
  {
   "cell_type": "markdown",
   "metadata": {},
   "source": [
    "There are other errors in reaction networks that can be detected statically. Systems such as MEMOTE detect the following errors:\n",
    "- *Blocked reactions* are reactions where one or more reactant is never present and so the reaction never ocurs.\n",
    "- *Dead end metabolite* are chemical species that are produced but not consumed.\n",
    "- *Orphan metabolites* are chemical species that are consumed but not produced.\n",
    "- *Charge imbalance* reactions are reactions that do not preserve the charge of the reactants in the products.\n",
    "\n",
    "The foregoing errors apply to the mass transfer part of reactions. Of course, errors are also possible in the kinetics laws.\n",
    "Among these errors are:\n",
    "- *Incorrect reference to chemical species*. To illustrate, consider a reaction in which the modeler intended to use mass action kinetcs, but\n",
    "wrote the reaction as ``A -> B; kB``.\n",
    "- *Errors in the function used in the kinetics law*. A common example here is to inadevertently use zeroth order kinetics for\n",
    "the degradation of a chemical species.\n",
    "For example, ``B ->; k``. The problem is that this can result in ``B`` becoming negative since its value is reduced\n",
    "regardless of whether ``B`` is present. Clearly, we cannot have a negative concentration."
   ]
  },
  {
   "cell_type": "markdown",
   "metadata": {},
   "source": [
    "## Dynamic Testing"
   ]
  },
  {
   "cell_type": "markdown",
   "metadata": {},
   "source": [
    "Dynamic testing is about verifying the output produced by a simulation.\n",
    "\n",
    "This is illustrated at the beginning of the chapter using the example\n",
    "of a linear pathway consisting of three species ``S1``, ``S2``, and ``S3``. That is, ``S1`` $\\rightarrow$ ``S2`` $\\rightarrow$ ``S3``, with ``S1`` initialized to 10. \n",
    "\n",
    "We showed that the following outcomes were expected from the simulation:\n",
    "\n",
    "- **O1**: ``S1`` decreases monotonically from 10 to 0.\n",
    "- **O2**: ``S2`` increases initially, peaks, and then declises to 0.\n",
    "- **O3**: ``S3`` increases monotonically to 10. \n"
   ]
  },
  {
   "cell_type": "code",
   "execution_count": null,
   "metadata": {},
   "outputs": [],
   "source": [
    "CORRECT_MODEL = '''\n",
    "R1:  S1 -> S2; k1*S1  \n",
    "R2a: S2 -> S3; k2*S2\n",
    "\n",
    "S1 = 10\n",
    "k1 = 1; k2 = 1;\n",
    "'''\n",
    "rr = te.loada(CORRECT_MODEL)\n",
    "data = rr.simulate(1, 10)\n",
    "rr.plot(data, title=\"Correct model of a linear pathway\")"
   ]
  },
  {
   "cell_type": "markdown",
   "metadata": {},
   "source": [
    "#### Testing Expected Outcomes"
   ]
  },
  {
   "cell_type": "markdown",
   "metadata": {},
   "source": [
    "The expected outcomes are the starting point for constructing verification tests.\n",
    "Implementing these tests requires two Boolean helper functions.\n",
    "A Boolean function returns either ``True`` or ``False``.\n",
    "The first helper function, ``isMonotone``, takes as input a list or array of values and\n",
    "the direction expected (+1 for monotone increasing and -1 for monotone decreasing).\n",
    "The function returns ``True`` if the data are monotone in the desired direction."
   ]
  },
  {
   "cell_type": "code",
   "execution_count": null,
   "metadata": {},
   "outputs": [],
   "source": [
    "def isMonotone(values, direction=1):\n",
    "    # CHeck if series is monotone in the desired direction\n",
    "    #   direction: 1 (increasing), -1 (decreasing)\n",
    "    arr = np.array(values)\n",
    "    diff = direction*(arr[1:] - arr[:-1])\n",
    "    return all([v > 0 for v in diff])"
   ]
  },
  {
   "cell_type": "markdown",
   "metadata": {},
   "source": [
    "``isMonotone`` allows us to check the conditions O1 and O3. For O2, we need to check that the values initially increase,\n",
    "and then decrease. Curves with this shape are called *concave*. That is, there is some intermediate point at which the series changes from increasing to\n",
    "decreasing. "
   ]
  },
  {
   "cell_type": "code",
   "execution_count": null,
   "metadata": {},
   "outputs": [],
   "source": [
    "def isConcave(values, direction=1):\n",
    "    # Check if series is monotone in the desired direction\n",
    "    #   direction: 1 (increasing), -1 (decreasing)\n",
    "    arr = np.array(values)\n",
    "    result = False\n",
    "    for idx in range(1, len(values)-2):\n",
    "        isIncreasing = isMonotone(arr[:idx], direction=1)\n",
    "        isDecreasing = isMonotone(arr[idx:], direction=-1)\n",
    "        if isIncreasing and isDecreasing:\n",
    "            result = True\n",
    "            break\n",
    "    return result"
   ]
  },
  {
   "cell_type": "markdown",
   "metadata": {},
   "source": [
    "We illustrate these functions below."
   ]
  },
  {
   "cell_type": "code",
   "execution_count": null,
   "metadata": {},
   "outputs": [],
   "source": [
    "# Illustration of isMonotone, isConcave\n",
    "for values in [ [1, 2, 3, 4], [4, 3, 2, 1], [1, 4, 3, 2]]:\n",
    "    print(\"\\nAnalyzing the series: %s\" % str(values))\n",
    "    print(\"  Increasing? %s\" % str(isMonotone(values, direction=1)))\n",
    "    print(\"  Decreasing? %s\" % str(isMonotone(values, direction=-1)))\n",
    "    print(\"  Concave? %s\" % str(isConcave(values)))"
   ]
  },
  {
   "cell_type": "markdown",
   "metadata": {},
   "source": [
    "#### Test Infrastructure"
   ]
  },
  {
   "cell_type": "markdown",
   "metadata": {},
   "source": [
    "Now that we have a way to test the outcomes, we need to write codes that use these tests.\n",
    "Fortunately, python provides a convenient way to do this with its ``unittest`` infrastructure.\n",
    "Using the infrastructure requires the following:\n",
    "- Copy the test template. The template consists of:\n",
    "  - ``import unittest``\n",
    "  - ``class TestModel(unittest.TestCase)``\n",
    "- Write a setUp function within ``TestModel`` that loads the model and gets simulation data.\n",
    "- Write tests that check the appropriate values in the simulation output.\n",
    "\n",
    "This is done below for the linear pathway.\n",
    "Note that the code expects that the variable ``MODEL`` is the antimony codes for the model being tested. We see that there\n",
    "is a separate test for each column."
   ]
  },
  {
   "cell_type": "code",
   "execution_count": null,
   "metadata": {},
   "outputs": [],
   "source": [
    "import unittest\n",
    "\n",
    "# Performs unittests on MODEL\n",
    "\n",
    "# Define a class in which the tests will run\n",
    "class TestModel(unittest.TestCase):\n",
    "    \n",
    "    def setUp(self):\n",
    "        self.roadrunner = te.loada(MODEL)\n",
    "        self.data = self.roadrunner.simulate(0, ENDTIME, NUMPOINT)\n",
    "        \n",
    "    def testS1(self):\n",
    "        self.assertTrue(expectMonotone(self.data[\"[S1]\"], direction=-1))\n",
    "          \n",
    "    def testS2(self):\n",
    "        self.assertTrue(expectConcave(self.data[\"[S2]\"]))\n",
    "                \n",
    "    def testS3(self):\n",
    "        self.assertTrue(expectMonotone(self.data[\"[S3]\"], direction=1))"
   ]
  },
  {
   "cell_type": "markdown",
   "metadata": {},
   "source": [
    "To run the model, you assign ``MODEL`` and then run the two lines that follow this assignment."
   ]
  },
  {
   "cell_type": "code",
   "execution_count": null,
   "metadata": {},
   "outputs": [],
   "source": [
    "MODEL = CORRECT_MODEL\n",
    "suite = unittest.TestLoader().loadTestsFromTestCase(TestModel)\n",
    "_ = unittest.TextTestRunner().run(suite)"
   ]
  },
  {
   "cell_type": "markdown",
   "metadata": {},
   "source": [
    "These codes ran the 3 tests. All three passed for ``CORRECT_MODEL``. Now consider what happens with the model in ``FIRST_IMPLEMENTATION`` that fails on the test for ``S2``."
   ]
  },
  {
   "cell_type": "code",
   "execution_count": null,
   "metadata": {},
   "outputs": [],
   "source": [
    "MODEL = FIRST_IMPLEMENTATION\n",
    "suite = unittest.TestLoader().loadTestsFromTestCase(TestModel)\n",
    "_ = unittest.TextTestRunner().run(suite)"
   ]
  },
  {
   "cell_type": "markdown",
   "metadata": {},
   "source": [
    "We have demonstrated these tests in the Jupyter notebook. However, in practice, the tests would be in\n",
    "a separate python modeule (a file ending in ``.py``). Ideally, these test files are run whenever there is a\n",
    "change to the model or its supporting code.\n",
    "Systems such as ``github`` provide a way to run these tests automatically whenever the model changes, a process referred to\n",
    "as *continuous integration*."
   ]
  },
  {
   "cell_type": "markdown",
   "metadata": {},
   "source": [
    "## Application to Glycolytic Oscillations\n",
    "This section applies the idea of model testing to our running example of glycolytic oscillations.\n",
    "We begin by introduce several constants.\n",
    "Constants are in all capital letters; they are assigned once, and their values do not change."
   ]
  },
  {
   "cell_type": "code",
   "execution_count": null,
   "metadata": {},
   "outputs": [],
   "source": [
    "# Constants used in the section\n",
    "WOLF_MODEL = \"../common/models/Jana_WolfGlycolysis.antimony\"\n",
    "MOLECULES = [\"Glucose\", \"fructose_1_6_bisphosphate\", \"glyceraldehyde_3_phosphate\", \"glycerate_3_phosphate\",\n",
    "            \"pyruvate\", \"Acetyladehyde\", \"External_acetaldehyde\", \"ATP\", \"ADP\", \"NAD\", \"NADH\"]\n",
    "ENDTIME = 5\n",
    "NUMPOINT = 100*ENDTIME\n",
    "ROADRUNNER = te.loada(WOLF_MODEL)"
   ]
  },
  {
   "cell_type": "markdown",
   "metadata": {},
   "source": [
    "In this section, we consider tests to verify the simulation of glycolytic oscillations used in our running example. The use case considered is one in which a team plans to modify the original model.\n",
    "This may involve both the addition and removal of reactions.\n",
    "\n",
    "Recall that the reactions in this model are:\n",
    "\n",
    "  ``\n",
    "  J0: $External_glucose => Glucose; J0_inputFlux;\n",
    "  J1: Glucose + 2 ATP => fructose_1_6_bisphosphate + 2 ADP; J1_k1*Glucose*ATP*(1/(1 + (ATP/J1_Ki)^J1_n));\n",
    "  J2: fructose_1_6_bisphosphate => glyceraldehyde_3_phosphate + glyceraldehyde_3_phosphate; J2_k*fructose_1_6_bisphosphate;\n",
    "  J3: glyceraldehyde_3_phosphate + NADH => NAD + $Glycerol; J3_k*glyceraldehyde_3_phosphate*NADH;\n",
    "  J4: glyceraldehyde_3_phosphate + ADP + NAD => ATP + glycerate_3_phosphate + NADH; (J4_kg*J4_kp*glyceraldehyde_3_phosphate*NAD*ADP - J4_ka*J4_kk*glycerate_3_phosphate*ATP*NADH)/(J4_ka*NADH + J4_kp*ADP);\n",
    "  J5: glycerate_3_phosphate + ADP => ATP + pyruvate; J5_k*glycerate_3_phosphate*ADP;\n",
    "  J6: pyruvate => Acetyladehyde; J6_k*pyruvate;\n",
    "  J7: Acetyladehyde + NADH => NAD + $ethanol; J7_k*Acetyladehyde*NADH;\n",
    "  J8: Acetyladehyde => External_acetaldehyde; J8_k1*Acetyladehyde - J8_k2*External_acetaldehyde;\n",
    "  J9: ATP => ADP; J9_k*ATP;\n",
    "  J10: External_acetaldehyde => $Sink; J10_k*External_acetaldehyde;``"
   ]
  },
  {
   "cell_type": "markdown",
   "metadata": {},
   "source": [
    "### Static Tests"
   ]
  },
  {
   "cell_type": "markdown",
   "metadata": {},
   "source": [
    "We begin by checking if the Wolf model has any stoichiometric inconsistencies.\n",
    "First, we create the antimony model as a string."
   ]
  },
  {
   "cell_type": "code",
   "execution_count": null,
   "metadata": {},
   "outputs": [],
   "source": [
    "WOLF_ANTIMONY = ROADRUNNER.getAntimony()"
   ]
  },
  {
   "cell_type": "markdown",
   "metadata": {},
   "source": [
    "Then, we check it."
   ]
  },
  {
   "cell_type": "code",
   "execution_count": null,
   "metadata": {},
   "outputs": [],
   "source": [
    "_ = lint(WOLF_ANTIMONY, mass_balance_check=\"games\")"
   ]
  },
  {
   "cell_type": "markdown",
   "metadata": {},
   "source": [
    "### Dynamic Tests"
   ]
  },
  {
   "cell_type": "markdown",
   "metadata": {},
   "source": [
    "The use case for dynamic tests is that a baseline model, in this case the Wolf model, is being\n",
    "modified. The specific modifications considered here are changes in parameter values.\n",
    "We want dynamic tests that ensure that essential characteristics of the model are preserved\n",
    "when parameter values are changed.\n",
    "\n",
    "What are these essential characteristics? Answering this question requires looking at the data produced\n",
    "by the baseline model."
   ]
  },
  {
   "cell_type": "code",
   "execution_count": null,
   "metadata": {},
   "outputs": [],
   "source": [
    "# Floating species concentrations over time\n",
    "DATA = ROADRUNNER.simulate(0, ENDTIME, NUMPOINT)\n",
    "def timePlots(data=DATA):\n",
    "    p = plt.plot(data[:,0], data[:,1:])\n",
    "    _ = plt.legend(p, data.colnames[1:], bbox_to_anchor=(1.05, 1), loc='upper left')\n",
    "timePlots()"
   ]
  },
  {
   "cell_type": "markdown",
   "metadata": {},
   "source": [
    "We see that there is an initial transient. But starting at time 1.5 sec to 2 sec, concentrations oscillate. We'll focus on these oscillations in our tests of the model.\n",
    "\n",
    "One way to characterize oscillations is by using the fourier transform. Below, we introduce the function ``getFft`` that calculates the fast fourier transform\n",
    "(FFT) for a chemical species, and a second function, ``plotFft``, that plots the FFT."
   ]
  },
  {
   "cell_type": "code",
   "execution_count": null,
   "metadata": {},
   "outputs": [],
   "source": [
    " # Codes to obtain the amplitude of the fourier transform and their corresponding frequencies.\n",
    "def getFft(molecule, data=DATA, offset=100, noZeroFreq=True):\n",
    "    # Returns frequencies and abs(fft) for a chemical species (molecule)\n",
    "    col = \"[%s]\" % molecule\n",
    "    values = data[col]\n",
    "    numPoint = len(data)\n",
    "    count = numPoint - offset\n",
    "    endTime = data[\"time\"][-1]\n",
    "    freqs = fftpack.fftfreq(count, endTime/numPoint)\n",
    "    fftValues = np.abs(fftpack.fft(values[offset:]))\n",
    "    if noZeroFreq:\n",
    "        freqs = freqs[1:]\n",
    "        fftValues = fftValues[1:]\n",
    "    return freqs, fftValues\n",
    "  \n",
    "# Codes for plotting the amplitude of a fourier transform\n",
    "def plotFft(molecule, data=DATA, ax=None, **kwargs):\n",
    "    if ax is None:\n",
    "        _, ax = plt.subplots(1,1)\n",
    "    freqs, fftValues = getFft(molecule, data=data, **kwargs)\n",
    "    ax.plot(freqs, fftValues)\n",
    "    ax.set_title(molecule)\n",
    "    ax.set_ylim([0, 130])"
   ]
  },
  {
   "cell_type": "markdown",
   "metadata": {},
   "source": [
    "Using these functions, we construct plots for all of the chemical species in the output."
   ]
  },
  {
   "cell_type": "code",
   "execution_count": null,
   "metadata": {},
   "outputs": [],
   "source": [
    "# Construct a plot of the amplitude of the fourier transforms of all floating species.\n",
    "numCol = 4\n",
    "numRow = 3\n",
    "fig = plt.figure(figsize=(14,10))\n",
    "for irow in range(numRow):\n",
    "    for icol in range(numCol):\n",
    "        idx = irow*numCol + icol\n",
    "        if idx >= len(MOLECULES):\n",
    "            break\n",
    "        ax = plt.subplot2grid((numRow, numCol), (irow, icol), fig=fig)\n",
    "        #ax = axes[irow, icol]\n",
    "        plotFft(MOLECULES[idx], ax=ax)"
   ]
  },
  {
   "cell_type": "markdown",
   "metadata": {},
   "source": [
    "The above plots use the same scale for the vertical axis ($y$). It seems that all chemical species indicate strong perodicities at a frequency of 5 Hz (5 cycles per second), with harmonics at multiples of this frequency.\n",
    "\n",
    "Given this, a natural test for the baseline model is that all chemical species show a 5 Hz perodicity. We can check for this using the following codes."
   ]
  },
  {
   "cell_type": "code",
   "execution_count": null,
   "metadata": {},
   "outputs": [],
   "source": [
    "def expectFrequency(molecule, data=DATA, frequency=5.0, topN=2):\n",
    "    # Return True if the expected frequency is among the topN frequencies with the largest amplitudes\n",
    "    freqs, amplitudes = getFft(molecule, data=data)\n",
    "    # Find the indices of the largest amplitudes\n",
    "    sortedIndices = sorted(range(len(freqs)), key=lambda i: amplitudes[i], reverse=True)\n",
    "    # See if the frequency is in the frequencies\n",
    "    return frequency in list(freqs[sortedIndices[:topN]])"
   ]
  },
  {
   "cell_type": "markdown",
   "metadata": {},
   "source": [
    "This function caculates the FFT for a chemical species (molecule) and then checks if that frequency is in the top amplitudes. Below\n",
    "are some examples."
   ]
  },
  {
   "cell_type": "code",
   "execution_count": null,
   "metadata": {},
   "outputs": [],
   "source": [
    "molecule = \"Glucose\"\n",
    "for frequency, topN in [(5.0, 2), (10.0, 10), (6, 20)]:\n",
    "    print(\"%s has a frequency of %f in the top %d amplitudes? %s\" \n",
    "          % (molecule, frequency, topN, str(expectFrequency(molecule, frequency=frequency, topN=topN))))"
   ]
  },
  {
   "cell_type": "markdown",
   "metadata": {},
   "source": [
    "Now we show how to create a test that can be run on a roadrunner model. We do this making use of the python ``unittest`` infrastructure, as described in previously in this chapter.\n",
    "For each chemical species considered, we will have two tests.\n",
    "One test checks that there is a frequency of 5 Hz; the second checks\n",
    "that there is no frequency of 7 Hz.\n",
    "\n",
    "In our use case, we consider the model evolving by making modifications to parameter values.\n",
    "Changes in parameter values are in the python variable ``PARAMETER_DCT``, a python dictionary;\n",
    "the key is the parameter name, and the value is its new value.\n",
    "The following provide access to updating parameter values."
   ]
  },
  {
   "cell_type": "markdown",
   "metadata": {},
   "source": [
    "Below are the unittests that use ``PARAMETER_DCT`` to modify ``WOLF_MODEL``."
   ]
  },
  {
   "cell_type": "code",
   "execution_count": null,
   "metadata": {},
   "outputs": [],
   "source": [
    "import unittest\n",
    "\n",
    "# Define a class in which the tests will run\n",
    "class TestModel(unittest.TestCase):\n",
    "    \n",
    "    def setUp(self):\n",
    "        self.roadrunner = updateParameters(PARAMETER_DCT)\n",
    "        self.roadrunner.reset()\n",
    "        self.data = self.roadrunner.simulate(0, ENDTIME, NUMPOINT)\n",
    "        \n",
    "    def testGlucoseHasFrequency(self):\n",
    "        self.assertTrue(expectFrequency(\"Glucose\", data=self.data, frequency=5.0))    \n",
    "            \n",
    "    def testGlucoseDoesNotHaveFrequency(self):\n",
    "        self.assertFalse(expectFrequency(\"Glucose\", data=self.data, frequency=7.0))   \n",
    "            \n",
    "    def testNADHHasFrequency(self):\n",
    "        self.assertTrue(expectFrequency(\"NADH\", data=self.data, frequency=5.0))    \n",
    "            \n",
    "    def testNADHDoesNotHaveFrequency(self):\n",
    "        self.assertFalse(expectFrequency(\"NADH\", data=self.data, frequency=7.0))"
   ]
  },
  {
   "cell_type": "markdown",
   "metadata": {},
   "source": [
    "The function ``updateParameters`` creates a model with whose parameter values are changed to those specified in\n",
    "a dictionary. The key of the dictionary is the SBML ID of the parameter; the value is the new value for the parameter."
   ]
  },
  {
   "cell_type": "code",
   "execution_count": null,
   "metadata": {},
   "outputs": [],
   "source": [
    "# Returns a roadrunner model with the desired parameter values\n",
    "def updateParameters(parameterDct):\n",
    "    rr = te.loada(WOLF_MODEL)\n",
    "    for name, value in parameterDct.items():\n",
    "        rr[name] = value\n",
    "    return rr"
   ]
  },
  {
   "cell_type": "markdown",
   "metadata": {},
   "source": [
    "Now, we begin our exploration of parameter values. First, we check that all tests pass if there is no change in parameter value."
   ]
  },
  {
   "cell_type": "code",
   "execution_count": null,
   "metadata": {},
   "outputs": [],
   "source": [
    "# Run the tests without changing the model\n",
    "PARAMETER_DCT = {}\n",
    "suite = unittest.TestLoader().loadTestsFromTestCase(TestModel)\n",
    "_ = unittest.TextTestRunner().run(suite)"
   ]
  },
  {
   "cell_type": "markdown",
   "metadata": {},
   "source": [
    "Next, we consider a small change in the the parameter ``J1_k1`` in the reaction\n",
    "``J1: Glucose + 2 ATP => fructose_1_6_bisphosphate + 2 ADP`` with the kinetics law ``J1_k1*Glucose*ATP*(1/(1 + (ATP/J1_Ki)^J1_n))``. We change this parameter from its baseline value of 550 to 530."
   ]
  },
  {
   "cell_type": "code",
   "execution_count": null,
   "metadata": {},
   "outputs": [],
   "source": [
    "# Run tests with changing J1_k1 from 550 to 530.\n",
    "PARAMETER_DCT = {\"J1_k1\": 530}\n",
    "suite = unittest.TestLoader().loadTestsFromTestCase(TestModel)\n",
    "_ = unittest.TextTestRunner().run(suite)"
   ]
  },
  {
   "cell_type": "markdown",
   "metadata": {},
   "source": [
    "This reduction in ``J1_k1`` preserves the frequency characteristics of the chemical species. So, we consider a further reduction in the value of the parameter."
   ]
  },
  {
   "cell_type": "code",
   "execution_count": null,
   "metadata": {},
   "outputs": [],
   "source": [
    "# Run tests with changing J1_k1 from 550 to 500.\n",
    "PARAMETER_DCT = {\"J1_k1\": 500}\n",
    "suite = unittest.TestLoader().loadTestsFromTestCase(TestModel)\n",
    "_ = unittest.TextTestRunner().run(suite)"
   ]
  },
  {
   "cell_type": "markdown",
   "metadata": {},
   "source": [
    "This time the test fails."
   ]
  }
 ],
 "metadata": {
  "kernelspec": {
   "display_name": "Python 3",
   "language": "python",
   "name": "python3"
  },
  "language_info": {
   "codemirror_mode": {
    "name": "ipython",
    "version": 3
   },
   "file_extension": ".py",
   "mimetype": "text/x-python",
   "name": "python",
   "nbconvert_exporter": "python",
   "pygments_lexer": "ipython3",
   "version": "3.8.5"
  }
 },
 "nbformat": 4,
 "nbformat_minor": 4
}
